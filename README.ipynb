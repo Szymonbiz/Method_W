{
 "cells": [
  {
   "cell_type": "markdown",
   "source": [
    "<div style=\"text-align: justify;\">\n",
    "<br>\n",
    "\n",
    "### Successive Pseudo-Division in Triangular Form\n",
    "\n",
    "We will denote the remainder on pseudo-division (pseudo-remainder) of $f$ by $g$ with respect to the variable $y$ by $prem(f, g, y)$. **The critical use of the pseudo-division algorithm comes in performing successive pseudo-division.** Suppose that $f_1, \\ldots , f_r$ are a set of hypothesis equations that are in triangular form, so that we can write them as:\n",
    "$$f_1 = f_1(u_1, \\ldots , u_d, x_1)$$\n",
    "$$f_2 = f_2(u_1, \\ldots , u_d, x_1, x_2)$$\n",
    "$$ \\vdots $$\n",
    "$$f_r = f_r(u_1, \\ldots , u_d, x_1, \\ldots , x_r).$$\n",
    "Let $g := g(u_1, \\ldots , u_d, x_1, \\ldots , x_r )$ be our conclusion equation. Performing successive pseudo-division simply involves the following: set $R_r = g$, $R_{r−1} := prem(R_r, f_r, x_r)$, $R_{r−2} = prem(R_{r−1}, f_{r−1}, x_{r−1})$, $\\ldots$ etc. Continuing in this fashion, we get a final remainder  $R_0 = prem(R_1, f_1, x_1)$. $R_0$ is called the final remainder upon successive pseudo-division of $g$ by $f_1$, $\\ldots$ , $f_r$ and is denoted $prem(g, f_1, \\ldots , f_r)$. We have the following result.\n",
    "\n",
    "\n",
    "**Proposition 4.2.** Suppose that the polynomials $f_1, \\ldots , f_r$ are in triangular form and $g = g(u_1, \\ldots , u_d, x_1, \\ldots , x_r)$ is our conclusion. Let $R_0 = prem(g, f_1, \\ldots ,f_r)$ and let $d_j$ be the leading coefficient of $f_j$ as a polynomial in $x_j$. Then\n",
    "\n",
    "1. There exist integers $s_1, \\ldots , s_r \\geq 0$ and polynomials $A_1, \\ldots , A_r$ such that\n",
    "$$d_{1}^{s_1} \\cdots d_{r}^{s_r} \\cdot g = A_1 \\cdot f_1 + \\ldots + A_r\\cdot f_r + R_0.$$\n",
    "2. Either $R_0 = 0$ or $deg(R_0, x_i) < deg(f_i, x_i)$ for $i = 1, \\ldots , r$.\n",
    "\n",
    "<br><br><br><br>\n",
    "</div>"
   ],
   "metadata": {
    "collapsed": false
   }
  },
  {
   "cell_type": "code",
   "execution_count": null,
   "outputs": [],
   "source": [],
   "metadata": {
    "collapsed": false,
    "ExecuteTime": {
     "end_time": "2025-04-18T21:55:38.952492300Z",
     "start_time": "2025-04-18T21:55:38.939780900Z"
    }
   }
  }
 ],
 "metadata": {
  "kernelspec": {
   "display_name": "Python 3",
   "language": "python",
   "name": "python3"
  },
  "language_info": {
   "codemirror_mode": {
    "name": "ipython",
    "version": 2
   },
   "file_extension": ".py",
   "mimetype": "text/x-python",
   "name": "python",
   "nbconvert_exporter": "python",
   "pygments_lexer": "ipython2",
   "version": "2.7.6"
  }
 },
 "nbformat": 4,
 "nbformat_minor": 0
}
